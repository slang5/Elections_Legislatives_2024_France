{
 "cells": [
  {
   "cell_type": "code",
   "execution_count": 1,
   "metadata": {},
   "outputs": [],
   "source": [
    "import pandas as pd\n",
    "import numpy as np\n",
    "import matplotlib.pyplot as mp\n",
    "import seaborn as sb\n",
    "import scipy.stats as stats\n",
    "import joblib as jb\n",
    "from sklearn.preprocessing import StandardScaler"
   ]
  },
  {
   "cell_type": "markdown",
   "metadata": {},
   "source": [
    "#### On importe le modèle, les données issues du document Test et un modèle pour centrer et reduire des données"
   ]
  },
  {
   "cell_type": "markdown",
   "metadata": {},
   "source": [
    "##### les variables utilisées étaient et il faut actualiser les noms pour les adapter aux noms des variables sur le set de Test\n",
    "       ['LegiT22022_Plus_vote', 'Euro2019_% Blancs/Ins',\n",
    "       'Euro2019_% Blancs/Vot', 'Euro2019_% Nuls/Ins', 'Euro2019_% Nuls/Vot',\n",
    "       'Euro2019_% Exp/Vot', 'Euro2019_Voix_1/Inscrits',\n",
    "       'Euro2019_Voix_2/Inscrits', 'Euro2019_Voix_3/Inscrits',\n",
    "       'Euro2019_Voix_4/Inscrits', 'Euro2019_Voix/Inscrits_ecarttype',\n",
    "       'Euro2019_Voix/Inscrits_skewness', 'Euro2019_Voix/Inscrits_kurtosis',\n",
    "       'LegiT12017_% Abs/Ins', 'LegiT12017_% Vot/Ins',\n",
    "       'LegiT12017_% Blancs/Ins', 'LegiT12017_% Blancs/Vot',\n",
    "       'LegiT12017_% Nuls/Ins', 'LegiT12017_% Nuls/Vot',\n",
    "       'LegiT12017_% Exp/Ins', 'LegiT12017_% Exp/Vot',\n",
    "       'LegiT12017_Voix_1/Inscrits', 'LegiT12017_Voix_2/Inscrits',\n",
    "       'LegiT12017_Voix_3/Inscrits', 'LegiT12017_Voix_4/Inscrits',\n",
    "       'LegiT12017_Voix/Inscrits_ecarttype',\n",
    "       'LegiT12017_Voix/Inscrits_skewness',\n",
    "       'LegiT12017_Voix/Inscrits_kurtosis', 'LegiT22017_% Abs/Ins',\n",
    "       'LegiT22017_% Vot/Ins', 'LegiT22017_% Blancs/Ins',\n",
    "       'LegiT22017_% Blancs/Vot', 'LegiT22017_% Nuls/Ins',\n",
    "       'LegiT22017_% Nuls/Vot', 'LegiT22017_% Exp/Ins', 'LegiT22017_% Exp/Vot',\n",
    "       'LegiT22017_Voix_1/Inscrits', 'LegiT22017_Voix_2/Inscrits',\n",
    "       'LegiT22017_Voix_3/Inscrits', 'LegiT22017_Voix_4/Inscrits',\n",
    "       'LegiT22017_Voix/Inscrits_ecarttype',\n",
    "       'LegiT22017_Voix/Inscrits_skewness',\n",
    "       'LegiT22017_Voix/Inscrits_kurtosis', 'PresT12017_% Vot/Ins',\n",
    "       'PresT12017_% Blancs/Ins', 'PresT12017_% Blancs/Vot',\n",
    "       'PresT12017_% Nuls/Ins', 'PresT12017_% Nuls/Vot',\n",
    "       'PresT12017_% Exp/Ins', 'PresT12017_% Exp/Vot',\n",
    "       'PresT12017_Voix_1/Inscrits', 'PresT12017_Voix_2/Inscrits',\n",
    "       'PresT12017_Voix_3/Inscrits', 'PresT12017_Voix_4/Inscrits',\n",
    "       'PresT12017_Voix/Inscrits_ecarttype',\n",
    "       'PresT12017_Voix/Inscrits_skewness',\n",
    "       'PresT12017_Voix/Inscrits_kurtosis', 'PresT22017_% Abs/Ins',\n",
    "       'PresT22017_% Vot/Ins', 'PresT22017_% Blancs/Ins',\n",
    "       'PresT22017_% Blancs/Vot', 'PresT22017_% Nuls/Ins',\n",
    "       'PresT22017_% Nuls/Vot', 'PresT22017_% Exp/Ins', 'PresT22017_% Exp/Vot',\n",
    "       'PresT22017_Voix_1/Inscrits', 'PresT22017_Voix_2/Inscrits',\n",
    "       'PresT22017_Voix_3/Inscrits', 'PresT22017_Voix_4/Inscrits',\n",
    "       'PresT22017_Voix/Inscrits_ecarttype',\n",
    "       'PresT22017_Voix/Inscrits_skewness',\n",
    "       'PresT22017_Voix/Inscrits_kurtosis', 'Euro2019_Plus_vote',\n",
    "       'Euro2019_Moins_vote', 'LegiT12017_Plus_vote', 'LegiT12017_Moins_vote',\n",
    "       'LegiT22017_Plus_vote', 'LegiT22017_Moins_vote', 'PresT12017_Plus_vote',\n",
    "       'PresT12017_Moins_vote']\n",
    "\n",
    "\n",
    "       Soit : ['Euro2024_% Blancs/Ins',  'Euro2024_% Blancs/Vot',  'Euro2024_% Nuls/Ins',  'Euro2024_% Nuls/Vot',  'Euro2024_% Exp/Vot',  'Euro2024_Voix_1/Inscrits',  'Euro2024_Voix_2/Inscrits',  'Euro2024_Voix_3/Inscrits',  'Euro2024_Voix_4/Inscrits',  'Euro2024_Voix/Inscrits_ecarttype',  'Euro2024_Voix/Inscrits_skewness',  'Euro2024_Voix/Inscrits_kurtosis',  'LegiT12022_% Abs/Ins',  'LegiT12022_% Vot/Ins',  'LegiT12022_% Blancs/Ins',  'LegiT12022_% Blancs/Vot',  'LegiT12022_% Nuls/Ins',  'LegiT12022_% Nuls/Vot',  'LegiT12022_% Exp/Ins',  'LegiT12022_% Exp/Vot',  'LegiT12022_Voix_1/Inscrits',  'LegiT12022_Voix_2/Inscrits',  'LegiT12022_Voix_3/Inscrits',  'LegiT12022_Voix_4/Inscrits',  'LegiT12022_Voix/Inscrits_ecarttype',  'LegiT12022_Voix/Inscrits_skewness',  'LegiT12022_Voix/Inscrits_kurtosis',  'LegiT22022_% Abs/Ins',  'LegiT22022_% Vot/Ins',  'LegiT22022_% Blancs/Ins',  'LegiT22022_% Blancs/Vot',  'LegiT22022_% Nuls/Ins',  'LegiT22022_% Nuls/Vot',  'LegiT22022_% Exp/Ins',  'LegiT22022_% Exp/Vot',  'LegiT22022_Voix_1/Inscrits',  'LegiT22022_Voix_2/Inscrits',  'LegiT22022_Voix_3/Inscrits',  'LegiT22022_Voix_4/Inscrits',  'LegiT22022_Voix/Inscrits_ecarttype',  'LegiT22022_Voix/Inscrits_skewness',  'LegiT22022_Voix/Inscrits_kurtosis',  'PresT12022_% Vot/Ins',  'PresT12022_% Blancs/Ins',  'PresT12022_% Blancs/Vot',  'PresT12022_% Nuls/Ins',  'PresT12022_% Nuls/Vot',  'PresT12022_% Exp/Ins',  'PresT12022_% Exp/Vot',  'PresT12022_Voix_1/Inscrits',  'PresT12022_Voix_2/Inscrits',  'PresT12022_Voix_3/Inscrits',  'PresT12022_Voix_4/Inscrits',  'PresT12022_Voix/Inscrits_ecarttype',  'PresT12022_Voix/Inscrits_skewness',  'PresT12022_Voix/Inscrits_kurtosis',  'PresT22022_% Abs/Ins',  'PresT22022_% Vot/Ins',  'PresT22022_% Blancs/Ins',  'PresT22022_% Blancs/Vot',  'PresT22022_% Nuls/Ins',  'PresT22022_% Nuls/Vot',  'PresT22022_% Exp/Ins',  'PresT22022_% Exp/Vot',  'PresT22022_Voix_1/Inscrits',  'PresT22022_Voix_2/Inscrits',  'PresT22022_Voix_3/Inscrits',  'PresT22022_Voix_4/Inscrits',  'PresT22022_Voix/Inscrits_ecarttype',  'PresT22022_Voix/Inscrits_skewness',  'PresT22022_Voix/Inscrits_kurtosis',  'Euro2024_Plus_vote',  'Euro2024_Moins_vote',  'LegiT12022_Plus_vote',  'LegiT12022_Moins_vote',  'LegiT22022_Plus_vote',  'LegiT22022_Moins_vote',  'PresT12022_Plus_vote',  'PresT12022_Moins_vote']\n"
   ]
  },
  {
   "cell_type": "code",
   "execution_count": 2,
   "metadata": {},
   "outputs": [],
   "source": [
    "model = jb.load('LogisticModel_averageScore75.joblib')\n",
    "Data = pd.read_excel(\"Test\\Z_DataTest_All_Clean.xlsx\")\n",
    "CentrerReduire = StandardScaler()\n",
    "\n",
    "Y_cible = Data['Y_Predire_LegisT22024']"
   ]
  },
  {
   "cell_type": "code",
   "execution_count": 3,
   "metadata": {},
   "outputs": [],
   "source": [
    "X_application = Data[['Euro2024_Inscrits','Euro2024_% Blancs/Ins',  'Euro2024_% Blancs/Vot',  'Euro2024_% Nuls/Ins',  'Euro2024_% Nuls/Vot',  'Euro2024_% Exp/Vot',  'Euro2024_Voix_1/Inscrits',  \n",
    "      'Euro2024_Voix_2/Inscrits',  'Euro2024_Voix_3/Inscrits',  'Euro2024_Voix_4/Inscrits',  'Euro2024_Voix/Inscrits_ecarttype',  'Euro2024_Voix/Inscrits_skewness',  \n",
    "      'Euro2024_Voix/Inscrits_kurtosis',  'LegiT12022_% Abs/Ins',  'LegiT12022_% Vot/Ins',  'LegiT12022_% Blancs/Ins',  'LegiT12022_% Blancs/Vot',  'LegiT12022_% Nuls/Ins',  \n",
    "      'LegiT12022_% Nuls/Vot',  'LegiT12022_% Exp/Ins',  'LegiT12022_% Exp/Vot',  'LegiT12022_Voix_1/Inscrits',  'LegiT12022_Voix_2/Inscrits',  'LegiT12022_Voix_3/Inscrits',  \n",
    "      'LegiT12022_Voix_4/Inscrits',  'LegiT12022_Voix/Inscrits_ecarttype',  'LegiT12022_Voix/Inscrits_skewness',  'LegiT12022_Voix/Inscrits_kurtosis',  'LegiT22022_% Abs/Ins',  \n",
    "      'LegiT22022_% Vot/Ins',  'LegiT22022_% Blancs/Ins',  'LegiT22022_% Blancs/Vot',  'LegiT22022_% Nuls/Ins',  'LegiT22022_% Nuls/Vot',  'LegiT22022_% Exp/Ins',  'LegiT22022_% Exp/Vot',  \n",
    "      'LegiT22022_Voix_1/Inscrits',  'LegiT22022_Voix_2/Inscrits',  'LegiT22022_Voix_3/Inscrits',  'LegiT22022_Voix_4/Inscrits',  'LegiT22022_Voix/Inscrits_ecarttype',  'LegiT22022_Voix/Inscrits_skewness',  \n",
    "      'LegiT22022_Voix/Inscrits_kurtosis',  'PresT12022_% Vot/Ins',  'PresT12022_% Blancs/Ins',  'PresT12022_% Blancs/Vot',  'PresT12022_% Nuls/Ins',  'PresT12022_% Nuls/Vot',  'PresT12022_% Exp/Ins',  \n",
    "      'PresT12022_% Exp/Vot',  'PresT12022_Voix_1/Inscrits',  'PresT12022_Voix_2/Inscrits',  'PresT12022_Voix_3/Inscrits',  'PresT12022_Voix_4/Inscrits',  'PresT12022_Voix/Inscrits_ecarttype',  \n",
    "      'PresT12022_Voix/Inscrits_skewness',  'PresT12022_Voix/Inscrits_kurtosis',  'PresT22022_% Abs/Ins',  'PresT22022_% Vot/Ins',  'PresT22022_% Blancs/Ins',  'PresT22022_% Blancs/Vot',  \n",
    "      'PresT22022_% Nuls/Ins',  'PresT22022_% Nuls/Vot',  'PresT22022_% Exp/Ins',  'PresT22022_% Exp/Vot',  'PresT22022_Voix_1/Inscrits',  'PresT22022_Voix_2/Inscrits',  'PresT22022_Voix_3/Inscrits',  \n",
    "      'PresT22022_Voix_4/Inscrits',  'PresT22022_Voix/Inscrits_ecarttype',  'PresT22022_Voix/Inscrits_skewness',  'PresT22022_Voix/Inscrits_kurtosis',  'Euro2024_Plus_vote',  'Euro2024_Moins_vote']]"
   ]
  },
  {
   "cell_type": "markdown",
   "metadata": {},
   "source": [
    "Comme avant, on va normaliser les variables hors Scrutin_Plus/Moins_vote"
   ]
  },
  {
   "cell_type": "code",
   "execution_count": 4,
   "metadata": {},
   "outputs": [],
   "source": [
    "#['Euro2024_Plus_vote',  'Euro2024_Moins_vote', 'LegiT12022_Plus_vote',  'LegiT12022_Moins_vote',  'LegiT22022_Plus_vote',  'LegiT22022_Moins_vote',  'PresT12022_Plus_vote',  'PresT12022_Moins_vote']\n",
    "PlusMoins_Voix = ['Euro2024_Plus_vote',  'Euro2024_Moins_vote']\n",
    "X_application_PlusMoins = X_application[PlusMoins_Voix]\n",
    "X_Anormaliser = X_application.drop(PlusMoins_Voix,axis=1)\n",
    "X_Anormaliser_Name = X_Anormaliser.columns\n",
    "CentrerReduire.fit(X_Anormaliser)\n",
    "X_Anormaliser = pd.DataFrame(CentrerReduire.transform(X_Anormaliser),columns=X_Anormaliser_Name)\n",
    "X_application_Propre = X_Anormaliser.join(X_application_PlusMoins)"
   ]
  },
  {
   "cell_type": "code",
   "execution_count": 5,
   "metadata": {},
   "outputs": [],
   "source": [
    "X_forModel = np.array(X_application_Propre)"
   ]
  },
  {
   "cell_type": "code",
   "execution_count": 6,
   "metadata": {},
   "outputs": [],
   "source": [
    "Prediction = model.predict(X_forModel)"
   ]
  },
  {
   "cell_type": "code",
   "execution_count": 7,
   "metadata": {},
   "outputs": [
    {
     "data": {
      "text/plain": [
       "array([3, 2, 2, 2, 3, 4, 3, 1, 4, 4, 2, 3, 3, 2, 2, 2, 2, 2, 4, 1, 4, 4,\n",
       "       2, 2, 3, 3, 1, 2, 3, 4, 3, 3, 2, 3, 4, 3, 4, 4, 2, 2, 2, 2, 2, 4,\n",
       "       2, 1, 1, 1, 2, 1, 4, 4, 4, 2, 4, 1, 2, 4, 1, 1, 1, 4, 2, 2, 2, 3,\n",
       "       3, 2, 2, 2, 2, 2, 2, 2, 2, 2, 2, 2, 3, 3, 2, 1, 2, 3, 2, 2, 2, 3,\n",
       "       1, 2, 2, 2, 4, 4, 2, 2, 2, 3, 4, 3, 1, 2, 1, 3, 2, 2, 4, 2, 2, 2,\n",
       "       3, 2, 2, 2, 2, 2, 2, 2, 2, 2, 2, 4, 3, 2, 3, 2, 4, 2, 2, 1, 2, 1,\n",
       "       1, 1, 1, 2, 2, 2, 2, 1, 2, 2, 4, 2, 1, 1, 1, 2, 2, 1, 2, 2, 2, 2,\n",
       "       2, 2, 1, 2, 2, 4, 3, 4, 1, 2, 1, 1, 1, 2, 3, 2, 2, 1, 2, 3, 1, 2,\n",
       "       2, 2, 2, 1, 1, 1, 2, 2, 4, 3, 4, 2, 2, 2, 3, 3, 2, 2, 2, 2, 2, 2,\n",
       "       1, 1, 2, 3, 3, 3, 3, 3, 1, 1, 1, 1, 2, 2, 2, 2, 2, 2, 2, 2, 4, 2,\n",
       "       4, 2, 3, 2, 2, 4, 4, 2, 1, 2, 3, 2, 2, 2, 2, 3, 2, 2, 2, 2, 2, 4,\n",
       "       2, 3, 2, 3, 2, 2, 1, 2, 1, 3, 2, 1, 3, 4, 2, 2, 2, 3, 2, 2, 2, 2,\n",
       "       2, 3, 2, 1, 4, 1, 2, 2, 4, 1, 1, 1, 1, 2, 2, 2, 1, 1, 2, 1, 4, 2,\n",
       "       4, 4, 1, 2, 4, 1, 1, 4, 3, 4, 1, 2, 3, 4, 3, 2, 3, 3, 4, 2, 1, 3,\n",
       "       2, 4, 3, 2, 2, 2, 2, 1, 1, 2, 2, 2, 2, 2, 2, 2, 2, 2, 2, 2, 2, 4,\n",
       "       4, 4, 4, 1, 1, 1, 2, 2, 4, 3, 2, 2, 2, 2, 2, 4, 2, 2, 1, 1, 1, 1,\n",
       "       2, 1, 1, 2, 2, 2, 2, 2, 2, 1, 4, 4, 2, 3, 2, 2, 2, 2, 2, 2, 2, 2,\n",
       "       2, 3, 3, 1, 2, 2, 3, 3, 2, 2, 2, 2, 1, 3, 1, 1, 1, 1, 1, 1, 2, 1,\n",
       "       3, 1, 1, 1, 2, 1, 1, 2, 2, 2, 2, 2, 2, 1, 2, 4, 4, 4, 1, 1, 1, 1,\n",
       "       1, 1, 3, 2, 2, 2, 2, 2, 1, 1, 1, 2, 1, 2, 2, 2, 2, 1, 1, 3, 4, 4,\n",
       "       2, 4, 2, 2, 2, 2, 2, 4, 2, 4, 4, 4, 2, 1, 4, 4, 2, 4, 2, 2, 2, 2,\n",
       "       2, 2, 1, 3, 2, 2, 2, 2, 3, 4, 3, 3, 3, 2, 4, 3, 4, 1, 2, 2, 2, 1,\n",
       "       1, 1, 3, 1, 1, 1, 1, 3, 1, 1, 3, 2, 2, 3, 2, 1, 1, 2, 1, 1, 1, 1,\n",
       "       1, 1, 1, 1, 1, 1, 1, 1, 1, 1, 1, 1, 1, 1, 3, 1, 1, 1, 1, 1, 1, 1,\n",
       "       1, 1, 1, 1, 1, 1, 1, 1, 1, 1, 1, 1, 1, 3, 3, 1, 1, 1, 1, 1, 1, 1,\n",
       "       1, 3, 3, 2, 2, 3, 3, 3, 2, 3, 2, 2, 2, 2, 2, 2, 2, 1, 2, 1, 2, 2],\n",
       "      dtype=int64)"
      ]
     },
     "execution_count": 7,
     "metadata": {},
     "output_type": "execute_result"
    }
   ],
   "source": [
    "Prediction"
   ]
  },
  {
   "cell_type": "code",
   "execution_count": 8,
   "metadata": {},
   "outputs": [
    {
     "name": "stdout",
     "output_type": "stream",
     "text": [
      "Parts des votes pour UP: 27.972%\n",
      "\n",
      "Parts des votes pour C: 45.979%\n",
      "\n",
      "Parts des votes pour D: 13.986%\n",
      "\n",
      "Parts des votes pour ED: 12.062%\n",
      "\n"
     ]
    }
   ],
   "source": [
    "resultatNet = [0,0,0,0]\n",
    "resultatrelatif = [0,0,0,0]\n",
    "Bloc = [\"UP\", \"C\", \"D\", \"ED\"]\n",
    "count = 0\n",
    "for i in Prediction:\n",
    "    resultatNet[i-1]+=1\n",
    "    count +=1\n",
    "resultatNet\n",
    "for i in range(0,len(resultatNet)):\n",
    "    resultatrelatif[i] = resultatNet[i]/count\n",
    "\n",
    "for i in range(0,4):\n",
    "    print(f\"Parts des votes pour {Bloc[i]}: {str(resultatrelatif[i]*100)[:6]}%\\n\")"
   ]
  },
  {
   "cell_type": "markdown",
   "metadata": {},
   "source": [
    "Parts des votes pour UP: 27.972%\n",
    "\n",
    "Parts des votes pour C: 45.979%\n",
    "\n",
    "Parts des votes pour D: 13.986%\n",
    "\n",
    "Parts des votes pour ED: 12.062%"
   ]
  }
 ],
 "metadata": {
  "kernelspec": {
   "display_name": "Python 3",
   "language": "python",
   "name": "python3"
  },
  "language_info": {
   "codemirror_mode": {
    "name": "ipython",
    "version": 3
   },
   "file_extension": ".py",
   "mimetype": "text/x-python",
   "name": "python",
   "nbconvert_exporter": "python",
   "pygments_lexer": "ipython3",
   "version": "3.11.8"
  }
 },
 "nbformat": 4,
 "nbformat_minor": 2
}
